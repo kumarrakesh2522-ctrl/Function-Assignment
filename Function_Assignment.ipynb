{
  "nbformat": 4,
  "nbformat_minor": 0,
  "metadata": {
    "colab": {
      "provenance": []
    },
    "kernelspec": {
      "name": "python3",
      "display_name": "Python 3"
    },
    "language_info": {
      "name": "python"
    }
  },
  "cells": [
    {
      "cell_type": "markdown",
      "source": [
        "# **Function Assignment**"
      ],
      "metadata": {
        "id": "3BUpFBNXb_fB"
      }
    },
    {
      "cell_type": "markdown",
      "source": [
        "1. What is the difference between a function and a method in Python?\n",
        "   - A function is a block of reusable code that performs a specific task But A method is just like a function, but it belongs to a class and is used to define behaviors of objects created from that class.\n",
        "   Ex:-class Person:\n",
        "    def __init__(self, name):\n",
        "        self.name = name\n",
        "\n",
        "    def greet(self):  # This is a method\n",
        "        return f\"Hello, {self.name}!\"\n",
        "\n",
        "p = Person(\"Rakesh\")\n",
        "print(p.greet())  # Output: Hello, Rakesh!\n",
        "\n",
        "2. Explain the concept of function arguments and parameters in Python.\n",
        "   - Parameters are variables that are defined inside the parentheses of a function definition But Arguments are the actual values or data you pass to a function when calling it.\n",
        "   \n",
        "  Parameter in Python\n",
        "   def greet(name):   # 'name' is a parameter\n",
        "    print(\"Hello,\", name)\n",
        " Argueement\n",
        " greet(\"Rakesh\")   # \"Rakesh\" is an argument\n",
        "Output:Hello, Rakesh\n",
        "\n",
        "3. What are the different ways to define and call a function in Python?\n",
        "   - Ways to Define a Function in Python\n",
        "\n",
        "Simple Function (without parameters)\n",
        "\n",
        "def greet():\n",
        "    print(\"Hello, welcome to Python!\")\n",
        "\n",
        "greet()\n",
        "\n",
        "\n",
        "Function with Parameters\n",
        "\n",
        "def greet(name):\n",
        "    print(\"Hello,\", name)\n",
        "\n",
        "greet(\"Rakesh\")\n",
        "\n",
        "\n",
        "Function with Return Value\n",
        "\n",
        "def add(a, b):\n",
        "    return a + b\n",
        "\n",
        "result = add(5, 3)\n",
        "print(result)   # 8\n",
        "\n",
        "\n",
        "Function with Default Parameters\n",
        "\n",
        "def greet(name=\"Guest\"):\n",
        "    print(\"Hello,\", name)\n",
        "\n",
        "greet()         # uses default → Hello, Guest\n",
        "greet(\"Amit\")   # overrides → Hello, Amit\n",
        "\n",
        "\n",
        "Function with Variable-length Arguments\n",
        "\n",
        "Using *args → multiple positional arguments\n",
        "\n",
        "Using **kwargs → multiple keyword arguments\n",
        "\n",
        "def show_info(*args, **kwargs):\n",
        "    print(\"Args:\", args)\n",
        "    print(\"Kwargs:\", kwargs)\n",
        "\n",
        "show_info(1, 2, 3, name=\"Rakesh\", age=25)\n",
        "\n",
        "\n",
        "Anonymous Function (Lambda Function)\n",
        "\n",
        "square = lambda x: x * x\n",
        "print(square(5))   # 25\n",
        "\n",
        "- Ways to Call a Function in Python\n",
        "\n",
        "Positional Arguments\n",
        "\n",
        "def add(a, b):\n",
        "    return a + b\n",
        "\n",
        "print(add(10, 20))   # a=10, b=20\n",
        "\n",
        "\n",
        "Keyword Arguments\n",
        "\n",
        "def introduce(name, age):\n",
        "    print(f\"My name is {name}, I am {age} years old.\")\n",
        "\n",
        "introduce(age=25, name=\"Rakesh\")\n",
        "\n",
        "\n",
        "Default Arguments\n",
        "\n",
        "def greet(name=\"Friend\"):\n",
        "    print(\"Hello,\", name)\n",
        "\n",
        "greet()           # uses default\n",
        "greet(\"Amit\")     # overrides\n",
        "\n",
        "\n",
        "Unpacking Arguments\n",
        "\n",
        "Using * (for list/tuple)\n",
        "\n",
        "Using ** (for dictionary)\n",
        "\n",
        "def add(a, b, c):\n",
        "    return a + b + c\n",
        "\n",
        "numbers = [1, 2, 3]\n",
        "print(add(*numbers))   # unpack list → 6\n",
        "\n",
        "person = {\"name\": \"Rakesh\", \"age\": 25}\n",
        "def introduce(name, age):\n",
        "    print(f\"My name is {name}, age {age}\")\n",
        "\n",
        "introduce(**person)    # unpack dict\n",
        "\n",
        "\n",
        "Passing Function as an Argument\n",
        "\n",
        "def apply(func, value):\n",
        "    return func(value)\n",
        "\n",
        "print(apply(lambda x: x**2, 5))   # 25\n",
        "\n",
        "\n",
        "Recursive Function Call\n",
        "A function calling itself.\n",
        "\n",
        "def factorial(n):\n",
        "    if n == 0:\n",
        "        return 1\n",
        "    return n * factorial(n-1)\n",
        "\n",
        "print(factorial(5))   # 120\n",
        " Summary :- Call functions using positional, keyword, default, unpacking, recursion, or even passing functions as arguments.\n",
        "\n",
        "4.  What is the purpose of the `return` statement in a Python function?\n",
        "    - The return statement is used to send a value (or multiple values) from a function back to the caller.\n",
        "Without return, a function automatically returns None.\n",
        "Ex:- Return a Single Value\n",
        "def add(a, b):\n",
        "    return a + b\n",
        "\n",
        "result = add(5, 3)\n",
        "print(result)   # 8\n",
        "\n",
        "\n",
        "Here, return a + b sends the sum back to where the function was called.\n",
        "\n",
        "5. What are iterators in Python and how do they differ from iterables?\n",
        "   - An iterable is any Python object that can be looped over (used in a for loop) but An iterator is an object that represents a stream of data.\n",
        "   Ex:- my_str = \"Hi\"\n",
        "it = iter(my_str)   # convert iterable (string) into iterator\n",
        "\n",
        "print(next(it))  # H\n",
        "print(next(it))  # i\n",
        "\n",
        "6.  Explain the concept of generators in Python and how they are defined.\n",
        "    - A generator in Python is a special type of iterator that produces values lazily (on demand) instead of storing them all in memory at once.\n",
        "\n",
        "Normal functions use return → send back one value and end.\n",
        "\n",
        "Generator functions use yield → produce a sequence of values one at a time, resuming where they left off.\n",
        "    Ex:-def count_up_to(n):\n",
        "    num = 1\n",
        "    while num <= n:\n",
        "        yield num     # produces a value\n",
        "        num += 1\n",
        "\n",
        "# Using the generator\n",
        "for val in count_up_to(5):\n",
        "    print(val)\n",
        "   Output:-\n",
        "   1\n",
        "2\n",
        "3\n",
        "4\n",
        "\n",
        "7. What are the advantages of using generators over regular functions?\n",
        "   - Regular Function takes a list & give square of each of the list.\n",
        "   Ex- def Square_number(n):\n",
        "          return = []\n",
        "          for i in range (n):\n",
        "          result.append(i**2)\n",
        "          return result\n",
        "          Square_number([5,10,15])\n",
        "      - 25,100,225\n",
        "\n",
        "8. What is a lambda function in Python and when is it typically used?\n",
        "   - A lambda function in Python is a small, anonymous function defined using the keyword lambda.When you need a short, throwaway function (instead of writing a full def function).With built-in functions like map(), filter(), and sorted().\n",
        "\n",
        "9. Explain the purpose and usage of the `map()` function in Python.\n",
        "   - The map() function in Python is used to apply a function to each item in an iterable (like a list, tuple, or string) and return a new iterator with the results.\n",
        "   Ex:- nums = [1, 2, 3, 4]\n",
        "         Square each number using map()\n",
        "         squares = map(lambda x: x**2, nums)\n",
        "\n",
        "        print(list(squares))   # [1, 4, 9, 16]\n",
        "\n",
        "10. What is the difference between `map()`, `reduce()`, and `filter()` functions in Python?\n",
        "    - Map Applies a function to each element of an iterable and returns a new iterator, Reduces an iterable to a single value by repeatedly applying a function to pairs of elements And Filters elements from an iterable based on a Boolean condition (True/False).\n",
        "\n",
        "11.  Using pen & Paper write the internal mechanism for sum operation using  reduce function on this given\n",
        "list:[47,11,42,13];\n",
        "     -\n",
        "\n",
        "\n"
      ],
      "metadata": {
        "id": "Rvwur31-cIY2"
      }
    },
    {
      "cell_type": "markdown",
      "source": [
        "# Practical Questions:"
      ],
      "metadata": {
        "id": "SyJUcBeyl3rI"
      }
    },
    {
      "cell_type": "markdown",
      "source": [
        "1. Write a Python function that takes a list of numbers as input and returns the sum of all even numbers in\n",
        "the list."
      ],
      "metadata": {
        "id": "p-4KFjcel6mg"
      }
    },
    {
      "cell_type": "code",
      "source": [
        "def sum_of_evens(numbers):\n",
        "  \"\"\"\n",
        "  This function takes a list of numbers and returns the sum of all even numbers.\n",
        "  \"\"\"\n",
        "  total = 0\n",
        "  for number in numbers:\n",
        "    if number % 2 == 0:\n",
        "      total += number\n",
        "  return total\n",
        "\n",
        "nums = [1, 2, 3, 4, 5, 6]\n",
        "result = sum_of_evens(nums)\n",
        "print(\"Sum of even numbers:\", result)"
      ],
      "metadata": {
        "colab": {
          "base_uri": "https://localhost:8080/"
        },
        "id": "bFZsWNd-o9IB",
        "outputId": "a736dfa4-0d18-481e-f882-079e58a2203d"
      },
      "execution_count": 2,
      "outputs": [
        {
          "output_type": "stream",
          "name": "stdout",
          "text": [
            "Sum of even numbers: 12\n"
          ]
        }
      ]
    },
    {
      "cell_type": "markdown",
      "source": [
        "2. Create a Python function that accepts a string and returns the reverse of that string."
      ],
      "metadata": {
        "id": "qimFFQgsl9tu"
      }
    },
    {
      "cell_type": "code",
      "source": [
        "def reverse_string(s):\n",
        "  \"\"\"\n",
        "  This function takes a string and returns its reverse.\n",
        "  \"\"\"\n",
        "  return s[::-1]\n",
        "\n",
        "word = \"Python\"\n",
        "print(\"Original:\", word)\n",
        "print(\"Reversed:\", reverse_string(word))"
      ],
      "metadata": {
        "colab": {
          "base_uri": "https://localhost:8080/"
        },
        "id": "y2wpQnJLpwKx",
        "outputId": "d98c6d0c-76cb-49d6-c0f1-7f28c9445baf"
      },
      "execution_count": 4,
      "outputs": [
        {
          "output_type": "stream",
          "name": "stdout",
          "text": [
            "Original: Python\n",
            "Reversed: nohtyP\n"
          ]
        }
      ]
    },
    {
      "cell_type": "markdown",
      "source": [
        " 3. Implement a Python function that takes a list of integers and returns a new list containing the squares of\n",
        "each number."
      ],
      "metadata": {
        "id": "Qj6azz4VnHZN"
      }
    },
    {
      "cell_type": "code",
      "source": [
        "def square_list(numbers):\n",
        "  \"\"\"\n",
        "  This function takes a list of integers and returns a new list containing the squares of each number.\n",
        "  \"\"\"\n",
        "  squared_numbers = []\n",
        "  for number in numbers:\n",
        "    squared_numbers.append(number**2)\n",
        "  return squared_numbers\n",
        "\n",
        "nums = [1, 2, 3, 4, 5]\n",
        "result = square_list(nums)\n",
        "print(\"Original list:\", nums)\n",
        "print(\"Squared list:\", result)"
      ],
      "metadata": {
        "colab": {
          "base_uri": "https://localhost:8080/"
        },
        "id": "XIS2SUXAqH1e",
        "outputId": "96277b0d-60fc-4c50-d03f-82aa3c51f3f2"
      },
      "execution_count": 6,
      "outputs": [
        {
          "output_type": "stream",
          "name": "stdout",
          "text": [
            "Original list: [1, 2, 3, 4, 5]\n",
            "Squared list: [1, 4, 9, 16, 25]\n"
          ]
        }
      ]
    },
    {
      "cell_type": "markdown",
      "source": [
        "4. Write a Python function that checks if a given number is prime or not from 1 to 200."
      ],
      "metadata": {
        "id": "m6c5zIDLnNs7"
      }
    },
    {
      "cell_type": "code",
      "source": [
        "def is_prime(num):\n",
        "  \"\"\"\n",
        "  This function checks if a number is prime.\n",
        "  \"\"\"\n",
        "  if num <= 1:\n",
        "    return False\n",
        "  for i in range(2, int(num**0.5) + 1):\n",
        "    if num % i == 0:\n",
        "      return False\n",
        "  return True\n",
        "\n",
        "for num in range(1, 201):\n",
        "    if is_prime(num):\n",
        "        print(num, \"is prime\")"
      ],
      "metadata": {
        "colab": {
          "base_uri": "https://localhost:8080/"
        },
        "id": "H43B8j6MqdcR",
        "outputId": "a4cfbaaf-48f3-48bc-eaa2-8fbfeafb55d8"
      },
      "execution_count": 8,
      "outputs": [
        {
          "output_type": "stream",
          "name": "stdout",
          "text": [
            "2 is prime\n",
            "3 is prime\n",
            "5 is prime\n",
            "7 is prime\n",
            "11 is prime\n",
            "13 is prime\n",
            "17 is prime\n",
            "19 is prime\n",
            "23 is prime\n",
            "29 is prime\n",
            "31 is prime\n",
            "37 is prime\n",
            "41 is prime\n",
            "43 is prime\n",
            "47 is prime\n",
            "53 is prime\n",
            "59 is prime\n",
            "61 is prime\n",
            "67 is prime\n",
            "71 is prime\n",
            "73 is prime\n",
            "79 is prime\n",
            "83 is prime\n",
            "89 is prime\n",
            "97 is prime\n",
            "101 is prime\n",
            "103 is prime\n",
            "107 is prime\n",
            "109 is prime\n",
            "113 is prime\n",
            "127 is prime\n",
            "131 is prime\n",
            "137 is prime\n",
            "139 is prime\n",
            "149 is prime\n",
            "151 is prime\n",
            "157 is prime\n",
            "163 is prime\n",
            "167 is prime\n",
            "173 is prime\n",
            "179 is prime\n",
            "181 is prime\n",
            "191 is prime\n",
            "193 is prime\n",
            "197 is prime\n",
            "199 is prime\n"
          ]
        }
      ]
    },
    {
      "cell_type": "markdown",
      "source": [
        "5. Create an iterator class in Python that generates the Fibonacci sequence up to a specified number of\n",
        "terms."
      ],
      "metadata": {
        "id": "30etR5JknYSy"
      }
    },
    {
      "cell_type": "code",
      "source": [
        "class FibonacciIterator:\n",
        "    \"\"\"\n",
        "    Iterator class that generates the Fibonacci sequence up to 'n' terms.\n",
        "    \"\"\"\n",
        "    def __init__(self, n):\n",
        "        self.n = n          # total terms\n",
        "        self.count = 0      # current index\n",
        "        self.a, self.b = 0, 1  # first two Fibonacci numbers\n",
        "\n",
        "    def __iter__(self):\n",
        "        return self\n",
        "\n",
        "    def __next__(self):\n",
        "        if self.count >= self.n:\n",
        "            raise StopIteration\n",
        "        if self.count == 0:\n",
        "            self.count += 1\n",
        "            return 0\n",
        "        elif self.count == 1:\n",
        "            self.count += 1\n",
        "            return 1\n",
        "        else:\n",
        "            self.a, self.b = self.b, self.a + self.b\n",
        "            self.count += 1\n",
        "            return self.b\n",
        "\n",
        "\n",
        "# Example usage:\n",
        "fib = FibonacciIterator(10)   # first 10 terms\n",
        "for num in fib:\n",
        "    print(num, end=\" \")"
      ],
      "metadata": {
        "colab": {
          "base_uri": "https://localhost:8080/"
        },
        "id": "BLZW3y3frB4Y",
        "outputId": "43325390-4e69-4b6d-dc77-c89fb490312b"
      },
      "execution_count": 10,
      "outputs": [
        {
          "output_type": "stream",
          "name": "stdout",
          "text": [
            "0 1 1 2 3 5 8 13 21 34 "
          ]
        }
      ]
    },
    {
      "cell_type": "markdown",
      "source": [
        "6. Write a generator function in Python that yields the powers of 2 up to a given exponent"
      ],
      "metadata": {
        "id": "rGHQaoLWmVHI"
      }
    },
    {
      "cell_type": "code",
      "source": [
        "def powers_of_two(n):\n",
        "    \"\"\"\n",
        "    Generator that yields powers of 2 from 2^0 up to 2^n.\n",
        "    \"\"\"\n",
        "    for i in range(n + 1):\n",
        "        yield 2 ** i\n",
        "\n",
        "\n",
        "# Example usage\n",
        "for val in powers_of_two(5):\n",
        "    print(val, end=\" \")"
      ],
      "metadata": {
        "colab": {
          "base_uri": "https://localhost:8080/"
        },
        "id": "v-nzdsXkrUYK",
        "outputId": "86b18427-70b7-4d38-f483-aa3767bd1b50"
      },
      "execution_count": 11,
      "outputs": [
        {
          "output_type": "stream",
          "name": "stdout",
          "text": [
            "1 2 4 8 16 32 "
          ]
        }
      ]
    },
    {
      "cell_type": "markdown",
      "source": [
        "7. Implement a generator function that reads a file line by line and yields each line as a string"
      ],
      "metadata": {
        "id": "6xVe42EMnmK4"
      }
    },
    {
      "cell_type": "code",
      "source": [
        "def read_file_lines(filename):\n",
        "    \"\"\"\n",
        "    Generator function that reads a file line by line\n",
        "    and yields each line as a string.\n",
        "    \"\"\"\n",
        "    with open(filename, \"r\") as file:\n",
        "        for line in file:\n",
        "            yield line.rstrip(\"\\n\")   # remove newline character"
      ],
      "metadata": {
        "id": "Lc-CSCuSrslq"
      },
      "execution_count": 15,
      "outputs": []
    },
    {
      "cell_type": "markdown",
      "source": [
        "8. Use a lambda function in Python to sort a list of tuples based on the second element of each tuple."
      ],
      "metadata": {
        "id": "H54bMsWan3Sh"
      }
    },
    {
      "cell_type": "code",
      "source": [
        "# List of tuples\n",
        "data = [(1, 5), (3, 1), (2, 7), (4, 2)]\n",
        "\n",
        "# Sort by second element using lambda\n",
        "sorted_data = sorted(data, key=lambda x: x[1])\n",
        "\n",
        "print(\"Original:\", data)\n",
        "print(\"Sorted by second element:\", sorted_data)"
      ],
      "metadata": {
        "colab": {
          "base_uri": "https://localhost:8080/"
        },
        "id": "aMxiQQ8XsFCP",
        "outputId": "a946e286-44d2-4dea-d2a9-6913567627ac"
      },
      "execution_count": 16,
      "outputs": [
        {
          "output_type": "stream",
          "name": "stdout",
          "text": [
            "Original: [(1, 5), (3, 1), (2, 7), (4, 2)]\n",
            "Sorted by second element: [(3, 1), (4, 2), (1, 5), (2, 7)]\n"
          ]
        }
      ]
    },
    {
      "cell_type": "markdown",
      "source": [
        "9. Write a Python program that uses `map()` to convert a list of temperatures from Celsius to Fahrenheit."
      ],
      "metadata": {
        "id": "JOQZeICHoAwb"
      }
    },
    {
      "cell_type": "code",
      "source": [
        "# Celsius to Fahrenheit conversion function\n",
        "c_to_f = lambda c: (9/5) * c + 32\n",
        "\n",
        "# List of temperatures in Celsius\n",
        "celsius = [0, 20, 37, 100]\n",
        "\n",
        "# Use map() to convert\n",
        "fahrenheit = list(map(c_to_f, celsius))\n",
        "\n",
        "print(\"Celsius:\", celsius)\n",
        "print(\"Fahrenheit:\", fahrenheit)\n"
      ],
      "metadata": {
        "colab": {
          "base_uri": "https://localhost:8080/"
        },
        "id": "8gg7vlkjsOAV",
        "outputId": "69950836-bd26-418d-f369-b13aeffd219a"
      },
      "execution_count": 17,
      "outputs": [
        {
          "output_type": "stream",
          "name": "stdout",
          "text": [
            "Celsius: [0, 20, 37, 100]\n",
            "Fahrenheit: [32.0, 68.0, 98.60000000000001, 212.0]\n"
          ]
        }
      ]
    },
    {
      "cell_type": "markdown",
      "source": [
        "10. Create a Python program that uses `filter()` to remove all the vowels from a given string."
      ],
      "metadata": {
        "id": "mrTaer0MoFii"
      }
    },
    {
      "cell_type": "code",
      "source": [
        "def remove_vowels(text):\n",
        "    vowels = \"aeiouAEIOU\"\n",
        "    # keep only non-vowel characters\n",
        "    result = filter(lambda ch: ch not in vowels, text)\n",
        "    return \"\".join(result)\n",
        "\n",
        "\n",
        "# Example usage\n",
        "s = \"Hello World, Python is awesome!\"\n",
        "print(\"Original:\", s)\n",
        "print(\"Without vowels:\", remove_vowels(s))"
      ],
      "metadata": {
        "colab": {
          "base_uri": "https://localhost:8080/"
        },
        "id": "SmR6Z6b7sYV6",
        "outputId": "0f07f1f3-be1c-4cac-d521-1d810752865d"
      },
      "execution_count": 18,
      "outputs": [
        {
          "output_type": "stream",
          "name": "stdout",
          "text": [
            "Original: Hello World, Python is awesome!\n",
            "Without vowels: Hll Wrld, Pythn s wsm!\n"
          ]
        }
      ]
    },
    {
      "cell_type": "markdown",
      "source": [
        "11) Imagine an accounting routine used in a book shop. It works on a list with sublists, which look like this:\n",
        "\n",
        "\n",
        "\n",
        "\n",
        "\n",
        "\n",
        "\n",
        "Write a Python program, which returns a list with 2-tuples. Each tuple consists of the order number and the\n",
        "product of the price per item and the quantity. The product should be increased by 10,- € if the value of the\n",
        "order is smaller than 100,00 €.\n",
        "\n",
        "Write a Python program using lambda and map."
      ],
      "metadata": {
        "id": "DQ3IxqWPoI14"
      }
    },
    {
      "cell_type": "code",
      "source": [
        "# Sample data: [order_number, item_price, quantity]\n",
        "orders = [\n",
        "    [34587, 4.95, 4],\n",
        "    [98762, 5.95, 3],\n",
        "    [77226, 12.99, 1],\n",
        "    [88112, 24.95, 1]\n",
        "]\n",
        "\n",
        "# Map with lambda\n",
        "result = list(map(lambda order: (\n",
        "    order[0],\n",
        "    order[1] * order[2] if order[1] * order[2] >= 100 else order[1] * order[2] + 10\n",
        "), orders))\n",
        "\n",
        "print(result)"
      ],
      "metadata": {
        "colab": {
          "base_uri": "https://localhost:8080/"
        },
        "id": "lRDcvRG4s6xP",
        "outputId": "f9012278-27ef-4385-a945-a665c9820e12"
      },
      "execution_count": 19,
      "outputs": [
        {
          "output_type": "stream",
          "name": "stdout",
          "text": [
            "[(34587, 29.8), (98762, 27.85), (77226, 22.990000000000002), (88112, 34.95)]\n"
          ]
        }
      ]
    }
  ]
}